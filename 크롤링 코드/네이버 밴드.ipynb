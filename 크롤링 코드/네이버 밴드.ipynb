{
 "cells": [
  {
   "cell_type": "code",
   "execution_count": null,
   "id": "2f6bd1d1-797c-4444-9560-28216bfe0d0a",
   "metadata": {},
   "outputs": [],
   "source": [
    "from selenium import webdriver\n",
    "from selenium.webdriver.chrome.options import Options\n",
    "from selenium.webdriver.common.by import By\n",
    "from selenium.webdriver.support.ui import WebDriverWait\n",
    "from selenium.webdriver.support import expected_conditions as EC\n",
    "from selenium.common.exceptions import NoSuchElementException\n",
    "\n",
    "from os import rename, listdir\n",
    "from datetime import datetime \n",
    "import time\n",
    "import csv\n",
    "import re"
   ]
  },
  {
   "cell_type": "code",
   "execution_count": null,
   "id": "bfcff6e6-5062-4478-8a8f-fcf8f9fab29f",
   "metadata": {},
   "outputs": [],
   "source": [
    "driver = webdriver.Chrome()\n",
    "driver.maximize_window()\n",
    "driver.get('https://band.us/')"
   ]
  },
  {
   "cell_type": "code",
   "execution_count": null,
   "id": "ae1b9c7f-da2d-4d6b-bfea-cf29899af94b",
   "metadata": {},
   "outputs": [],
   "source": [
    "# CSV 파일 저장 설정\n",
    "filename = \"band_posts_{0}.csv\".format(datetime.now().strftime('%Y-%m-%d_%H%M%S'))\n",
    "f = open(filename, 'w', newline='', encoding='utf-8')\n",
    "wr = csv.writer(f)\n",
    "\n",
    "# 헤더 추가\n",
    "wr.writerow(['게시글 시간', '게시글 내용'])\n",
    "\n",
    "# 게시글 시간과 내용 리스트\n",
    "times = driver.find_elements(By.CLASS_NAME, 'time')\n",
    "contents = driver.find_elements(By.CLASS_NAME, 'txtBody')\n",
    "\n",
    "# 리스트로 담은 후 CSV에 저장\n",
    "for time_element, content_element in zip(times, contents):\n",
    "    post_time = time_element.text\n",
    "    post_content = content_element.text\n",
    "    \n",
    "    # 출력 확인 (디버깅용)\n",
    "    print(f\"게시글 시간: {post_time}, 게시글 내용: {post_content}\")\n",
    "    \n",
    "    # CSV 파일에 저장\n",
    "    wr.writerow([post_time, post_content])\n",
    "\n",
    "print(f\"데이터가 {filename}에 저장되었습니다.\")"
   ]
  },
  {
   "cell_type": "code",
   "execution_count": null,
   "id": "8e7e04b8-fa51-47d2-8279-a6bfe0b02a4f",
   "metadata": {},
   "outputs": [],
   "source": []
  }
 ],
 "metadata": {
  "kernelspec": {
   "display_name": "Python 3 (ipykernel)",
   "language": "python",
   "name": "python3"
  },
  "language_info": {
   "codemirror_mode": {
    "name": "ipython",
    "version": 3
   },
   "file_extension": ".py",
   "mimetype": "text/x-python",
   "name": "python",
   "nbconvert_exporter": "python",
   "pygments_lexer": "ipython3",
   "version": "3.11.7"
  }
 },
 "nbformat": 4,
 "nbformat_minor": 5
}
